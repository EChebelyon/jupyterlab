{
 "cells": [
  {
   "cell_type": "markdown",
   "metadata": {},
   "source": [
    "## The 10 Reasons why I like Jupyterlab\n",
    "- There are a tone of extensions, most are not available for jupyterlab 3 yet\n",
    "\n",
    "- csv explorer\n",
    "\n",
    "- Open geojson and quickly inspect\n",
    "\n",
    "- Flexible layout, has some basic styling themes that look good\n",
    "\n",
    "- git and github integration\n",
    "\n",
    "- Run code from python script\n",
    "\n",
    "- Markdown code to text on the fly\n",
    "\n",
    "- Drag and drop functionality\n",
    "\n",
    "- Extensions\n",
    "\n",
    "- Project Jupyter\n"
   ]
  },
  {
   "cell_type": "code",
   "execution_count": 39,
   "metadata": {},
   "outputs": [
    {
     "data": {
      "application/vnd.jupyter.widget-view+json": {
       "model_id": "95971b432ab14b329ca89f31458b0a1f",
       "version_major": 2,
       "version_minor": 0
      },
      "text/plain": [
       "Map(center=[1.0229141663045973, 35.02728666001268], controls=(ZoomControl(options=['position', 'zoom_in_text',…"
      ]
     },
     "metadata": {},
     "output_type": "display_data"
    }
   ],
   "source": [
    "from ipyleaflet import (\n",
    "    Map, basemaps, Marker, AntPath, TileLayer, SplitMapControl\n",
    ")\n",
    "center = (1.0229141663045973, 35.02728666001268)\n",
    "\n",
    "m = Map(\n",
    "#     basemap=basemaps.CartoDB.Positron,\n",
    "        center=center, \n",
    "        zoom=6)\n",
    "\n",
    "kitale = Marker(location=center, draggable=False)\n",
    "nairobi = Marker(location=[-1.2905746678699082, 36.817749183535526], draggable=False)\n",
    "m.add_layer(nairobi)\n",
    "m.add_layer(kitale);\n",
    "\n",
    "ant_path = AntPath(\n",
    "    locations=[ [1.0229141663045973, 35.02728666001268],\n",
    "              [0.525992, 35.251394], [0.360558, 35.352112], [-0.211722, 35.726507],\n",
    "              [-0.283611, 36.088489], [-0.697051, 36.427214], [-1.111750, 36.631396],\n",
    "              [-1.2905746678699082, 36.817749183535526]\n",
    "              ],\n",
    "    dash_array=[1, 10],\n",
    "    delay=1000,\n",
    "    color='#7590ba',\n",
    "    pulse_color='#0c1fed'\n",
    ")\n",
    "\n",
    "m.add_layer(ant_path)\n",
    "\n",
    "left = TileLayer(url='https://cartodb-basemaps-{s}.global.ssl.fastly.net/light_all/{z}/{x}/{y}.png')\n",
    "right = TileLayer(url='https://cartodb-basemaps-{s}.global.ssl.fastly.net/dark_all/{z}/{x}/{y}.png')\n",
    "control = SplitMapControl(left_layer=left, right_layer=right)\n",
    "m.add_control(control)\n",
    "\n",
    "m"
   ]
  },
  {
   "cell_type": "markdown",
   "metadata": {},
   "source": [
    "Ipywidgets is also cool"
   ]
  },
  {
   "cell_type": "code",
   "execution_count": 40,
   "metadata": {},
   "outputs": [
    {
     "data": {
      "application/vnd.jupyter.widget-view+json": {
       "model_id": "dd4cb4c88b9342e9a0dfcafa08c802a1",
       "version_major": 2,
       "version_minor": 0
      },
      "text/plain": [
       "IntSlider(value=0)"
      ]
     },
     "metadata": {},
     "output_type": "display_data"
    }
   ],
   "source": [
    "import ipywidgets as widgets\n",
    "\n",
    "w = widgets.IntSlider()\n",
    "display(w)"
   ]
  },
  {
   "cell_type": "markdown",
   "metadata": {},
   "source": [
    "Added zoom functionality"
   ]
  },
  {
   "cell_type": "code",
   "execution_count": 41,
   "metadata": {},
   "outputs": [
    {
     "data": {
      "application/vnd.jupyter.widget-view+json": {
       "model_id": "3c127c94828447e9a97e6ba8228afb1b",
       "version_major": 2,
       "version_minor": 0
      },
      "text/plain": [
       "Box(children=(IntSlider(value=6, description='zoom', max=10, min=1),))"
      ]
     },
     "metadata": {},
     "output_type": "display_data"
    }
   ],
   "source": [
    "m.interact(zoom=(1,10, 1))"
   ]
  },
  {
   "cell_type": "code",
   "execution_count": null,
   "metadata": {},
   "outputs": [],
   "source": []
  }
 ],
 "metadata": {
  "kernelspec": {
   "display_name": "gdal_env_kernel",
   "language": "python",
   "name": "gdal_env_kernel"
  },
  "language_info": {
   "codemirror_mode": {
    "name": "ipython",
    "version": 3
   },
   "file_extension": ".py",
   "mimetype": "text/x-python",
   "name": "python",
   "nbconvert_exporter": "python",
   "pygments_lexer": "ipython3",
   "version": "3.7.7"
  }
 },
 "nbformat": 4,
 "nbformat_minor": 4
}
