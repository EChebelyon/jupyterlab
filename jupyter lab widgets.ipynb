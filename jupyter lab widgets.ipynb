{
 "cells": [
  {
   "cell_type": "markdown",
   "metadata": {},
   "source": [
    "This geospatial one is one of my favorite: ipyleaflet"
   ]
  },
  {
   "cell_type": "code",
   "execution_count": 1,
   "metadata": {},
   "outputs": [
    {
     "data": {
      "application/vnd.jupyter.widget-view+json": {
       "model_id": "cf2ee807a6b0488197021ca552e1046e",
       "version_major": 2,
       "version_minor": 0
      },
      "text/plain": [
       "Map(center=[1.0229141663045973, 35.02728666001268], controls=(ZoomControl(options=['position', 'zoom_in_text',…"
      ]
     },
     "metadata": {},
     "output_type": "display_data"
    }
   ],
   "source": [
    "from ipyleaflet import Map, basemaps, Marker, AntPath\n",
    "\n",
    "center = (1.0229141663045973, 35.02728666001268)\n",
    "\n",
    "m = Map(basemap=basemaps.CartoDB.Positron,\n",
    "        center=center, \n",
    "        zoom=6)\n",
    "\n",
    "kitale = Marker(location=center, draggable=False)\n",
    "nairobi = Marker(location=[-1.2905746678699082, 36.817749183535526], draggable=False)\n",
    "m.add_layer(nairobi)\n",
    "m.add_layer(kitale);\n",
    "\n",
    "ant_path = AntPath(\n",
    "    locations=[ [1.0229141663045973, 35.02728666001268],\n",
    "              [0.525992, 35.251394], [0.360558, 35.352112], [-0.211722, 35.726507],\n",
    "              [-0.283611, 36.088489], [-0.697051, 36.427214], [-1.111750, 36.631396],\n",
    "              [-1.2905746678699082, 36.817749183535526]\n",
    "              ],\n",
    "    dash_array=[1, 10],\n",
    "    delay=1000,\n",
    "    color='#7590ba',\n",
    "    pulse_color='#0c1fed'\n",
    ")\n",
    "\n",
    "m.add_layer(ant_path)\n",
    "m"
   ]
  },
  {
   "cell_type": "markdown",
   "metadata": {},
   "source": [
    "Ipywidgets is also cool"
   ]
  },
  {
   "cell_type": "code",
   "execution_count": 2,
   "metadata": {},
   "outputs": [
    {
     "data": {
      "application/vnd.jupyter.widget-view+json": {
       "model_id": "a07d0132da5b486b9ee41129d2e92f72",
       "version_major": 2,
       "version_minor": 0
      },
      "text/plain": [
       "IntSlider(value=0)"
      ]
     },
     "metadata": {},
     "output_type": "display_data"
    }
   ],
   "source": [
    "import ipywidgets as widgets\n",
    "\n",
    "w = widgets.IntSlider()\n",
    "display(w)"
   ]
  },
  {
   "cell_type": "markdown",
   "metadata": {},
   "source": [
    "Added a line"
   ]
  },
  {
   "cell_type": "code",
   "execution_count": null,
   "metadata": {},
   "outputs": [],
   "source": []
  }
 ],
 "metadata": {
  "kernelspec": {
   "display_name": "gdal_env_kernel",
   "language": "python",
   "name": "gdal_env_kernel"
  },
  "language_info": {
   "codemirror_mode": {
    "name": "ipython",
    "version": 3
   },
   "file_extension": ".py",
   "mimetype": "text/x-python",
   "name": "python",
   "nbconvert_exporter": "python",
   "pygments_lexer": "ipython3",
   "version": "3.7.7"
  }
 },
 "nbformat": 4,
 "nbformat_minor": 4
}
